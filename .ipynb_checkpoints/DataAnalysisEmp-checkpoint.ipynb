{
 "cells": [
  {
   "cell_type": "markdown",
   "metadata": {},
   "source": [
    "# Employee Data Analysis"
   ]
  },
  {
   "cell_type": "markdown",
   "metadata": {},
   "source": [
    "Perform an Employee Data analysis \n",
    "Get the data from postgress into Jupiter\n",
    "Create a histogram to visualize the most common salary ranges for employees and\n",
    "Create a bar chart of average salary by title."
   ]
  },
  {
   "cell_type": "code",
   "execution_count": null,
   "metadata": {},
   "outputs": [],
   "source": []
  },
  {
   "cell_type": "markdown",
   "metadata": {},
   "source": [
    "# Data source and connections"
   ]
  },
  {
   "cell_type": "code",
   "execution_count": 46,
   "metadata": {},
   "outputs": [],
   "source": [
    "from sqlalchemy import create_engine\n",
    "from sqlalchemy import MetaData\n",
    "from sqlalchemy import Table\n",
    "from sqlalchemy import Column\n",
    "from sqlalchemy import Integer, String\n",
    "import numpy as np\n",
    "import pandas as pd\n",
    "import matplotlib.pyplot as plt\n",
    "from dotenv import load_dotenv\n",
    "import os\n",
    "load_dotenv()\n",
    "\n",
    "pos_port  = os.getenv('POS_PORT')\n",
    "pos_user = os.getenv('POS_USER')\n",
    "pos_pass  = os.getenv('POS_PASS')\n",
    "pos_db  = os.getenv('POS_DB')\n",
    "pos_lhost  = os.getenv('POS_LHOST')\n",
    "\n",
    "\n",
    "#engine = create_engine('postgresql://'+os.environ['userx']+':'+os.environ['passwdx']+'@'+os.environ['localhostx']+':'+os.environ['portx']+'/'+os.environ['dbx'],echo=False)\n",
    "engine = create_engine('postgresql://'+pos_user+':'+pos_pass+'@'+pos_lhost+':'+pos_port+'/'+pos_db+'')\n",
    "connection = engine.connect()\n",
    "metadata = MetaData()\n",
    "\n",
    "# map db tables\n",
    "\n",
    "employee = Table('employee', metadata, autoload=True, autoload_with=engine)\n",
    "departments = Table('departments', metadata, autoload=True, autoload_with=engine)\n",
    "salaries = Table('salaries', metadata, autoload=True, autoload_with=engine)\n",
    "title = Table('title', metadata, autoload=True, autoload_with=engine)\n",
    "dep_manager = Table('dep_manager', metadata, autoload=True, autoload_with=engine)\n",
    "dep_emp = Table('dep_emp', metadata, autoload=True, autoload_with=engine)"
   ]
  },
  {
   "cell_type": "code",
   "execution_count": 47,
   "metadata": {},
   "outputs": [],
   "source": [
    "# display column table\n",
    "#print(employee.columns.keys())"
   ]
  },
  {
   "cell_type": "code",
   "execution_count": 48,
   "metadata": {},
   "outputs": [
    {
     "data": {
      "text/html": [
       "<div>\n",
       "<style scoped>\n",
       "    .dataframe tbody tr th:only-of-type {\n",
       "        vertical-align: middle;\n",
       "    }\n",
       "\n",
       "    .dataframe tbody tr th {\n",
       "        vertical-align: top;\n",
       "    }\n",
       "\n",
       "    .dataframe thead th {\n",
       "        text-align: right;\n",
       "    }\n",
       "</style>\n",
       "<table border=\"1\" class=\"dataframe\">\n",
       "  <thead>\n",
       "    <tr style=\"text-align: right;\">\n",
       "      <th></th>\n",
       "      <th>emp_no</th>\n",
       "      <th>birth_date</th>\n",
       "      <th>first_name</th>\n",
       "      <th>last_name</th>\n",
       "      <th>gender</th>\n",
       "      <th>hire_date</th>\n",
       "    </tr>\n",
       "  </thead>\n",
       "  <tbody>\n",
       "    <tr>\n",
       "      <th>0</th>\n",
       "      <td>10001</td>\n",
       "      <td>1953-09-02</td>\n",
       "      <td>Georgi</td>\n",
       "      <td>Facello</td>\n",
       "      <td>M</td>\n",
       "      <td>1986-06-26</td>\n",
       "    </tr>\n",
       "    <tr>\n",
       "      <th>1</th>\n",
       "      <td>10002</td>\n",
       "      <td>1964-06-02</td>\n",
       "      <td>Bezalel</td>\n",
       "      <td>Simmel</td>\n",
       "      <td>F</td>\n",
       "      <td>1985-11-21</td>\n",
       "    </tr>\n",
       "    <tr>\n",
       "      <th>2</th>\n",
       "      <td>10003</td>\n",
       "      <td>1959-12-03</td>\n",
       "      <td>Parto</td>\n",
       "      <td>Bamford</td>\n",
       "      <td>M</td>\n",
       "      <td>1986-08-28</td>\n",
       "    </tr>\n",
       "    <tr>\n",
       "      <th>3</th>\n",
       "      <td>10004</td>\n",
       "      <td>1954-05-01</td>\n",
       "      <td>Chirstian</td>\n",
       "      <td>Koblick</td>\n",
       "      <td>M</td>\n",
       "      <td>1986-12-01</td>\n",
       "    </tr>\n",
       "    <tr>\n",
       "      <th>4</th>\n",
       "      <td>10005</td>\n",
       "      <td>1955-01-21</td>\n",
       "      <td>Kyoichi</td>\n",
       "      <td>Maliniak</td>\n",
       "      <td>M</td>\n",
       "      <td>1989-09-12</td>\n",
       "    </tr>\n",
       "  </tbody>\n",
       "</table>\n",
       "</div>"
      ],
      "text/plain": [
       "   emp_no  birth_date first_name last_name gender   hire_date\n",
       "0   10001  1953-09-02     Georgi   Facello      M  1986-06-26\n",
       "1   10002  1964-06-02    Bezalel    Simmel      F  1985-11-21\n",
       "2   10003  1959-12-03      Parto   Bamford      M  1986-08-28\n",
       "3   10004  1954-05-01  Chirstian   Koblick      M  1986-12-01\n",
       "4   10005  1955-01-21    Kyoichi  Maliniak      M  1989-09-12"
      ]
     },
     "execution_count": 48,
     "metadata": {},
     "output_type": "execute_result"
    }
   ],
   "source": [
    "# convert table information to df\n",
    "e_query = employee.select()\n",
    "e_query_result= connection.execute(e_query)\n",
    "e_result_data = e_query_result.fetchall()\n",
    "e_employee_df = pd.DataFrame(e_result_data)\n",
    "e_employee_df.columns = e_result_data[0].keys()\n",
    "e_employee_df.head(5)"
   ]
  },
  {
   "cell_type": "code",
   "execution_count": 49,
   "metadata": {},
   "outputs": [],
   "source": [
    "# Get data from empoloyee_db (postgress database) into a df\n",
    "#  Departments\n",
    "d_query = departments.select()\n",
    "d_query_result= connection.execute(d_query)\n",
    "d_result_data = d_query_result.fetchall()\n",
    "#  salaries\n",
    "s_query = salaries.select()\n",
    "s_query_result= connection.execute(s_query)\n",
    "s_result_data = s_query_result.fetchall()\n",
    "#  title\n",
    "t_query = title.select()\n",
    "t_query_result= connection.execute(t_query)\n",
    "t_result_data = t_query_result.fetchall()\n",
    "t_title_df = pd.DataFrame(t_result_data)\n",
    "t_title_df.columns = t_result_data[0].keys()\n",
    "#s_title_df.head(5)\n",
    "\n",
    "# dep_manager\n",
    "m_query =dep_manager.select()\n",
    "m_query_result= connection.execute(m_query)\n",
    "m_result_data = m_query_result.fetchall()\n",
    "# dep_manager\n",
    "m_query =dep_emp.select()\n",
    "m_query_result= connection.execute(m_query)\n",
    "m_result_data = m_query_result.fetchall()"
   ]
  },
  {
   "cell_type": "code",
   "execution_count": 40,
   "metadata": {},
   "outputs": [
    {
     "data": {
      "text/html": [
       "<div>\n",
       "<style scoped>\n",
       "    .dataframe tbody tr th:only-of-type {\n",
       "        vertical-align: middle;\n",
       "    }\n",
       "\n",
       "    .dataframe tbody tr th {\n",
       "        vertical-align: top;\n",
       "    }\n",
       "\n",
       "    .dataframe thead th {\n",
       "        text-align: right;\n",
       "    }\n",
       "</style>\n",
       "<table border=\"1\" class=\"dataframe\">\n",
       "  <thead>\n",
       "    <tr style=\"text-align: right;\">\n",
       "      <th></th>\n",
       "      <th>emp_no</th>\n",
       "      <th>salary</th>\n",
       "      <th>from_date</th>\n",
       "      <th>to_date</th>\n",
       "    </tr>\n",
       "  </thead>\n",
       "  <tbody>\n",
       "    <tr>\n",
       "      <th>0</th>\n",
       "      <td>10001</td>\n",
       "      <td>60117</td>\n",
       "      <td>1986-06-26</td>\n",
       "      <td>1987-06-26</td>\n",
       "    </tr>\n",
       "    <tr>\n",
       "      <th>1</th>\n",
       "      <td>10002</td>\n",
       "      <td>65828</td>\n",
       "      <td>1996-08-03</td>\n",
       "      <td>1997-08-03</td>\n",
       "    </tr>\n",
       "    <tr>\n",
       "      <th>2</th>\n",
       "      <td>10003</td>\n",
       "      <td>40006</td>\n",
       "      <td>1995-12-03</td>\n",
       "      <td>1996-12-02</td>\n",
       "    </tr>\n",
       "    <tr>\n",
       "      <th>3</th>\n",
       "      <td>10004</td>\n",
       "      <td>40054</td>\n",
       "      <td>1986-12-01</td>\n",
       "      <td>1987-12-01</td>\n",
       "    </tr>\n",
       "    <tr>\n",
       "      <th>4</th>\n",
       "      <td>10005</td>\n",
       "      <td>78228</td>\n",
       "      <td>1989-09-12</td>\n",
       "      <td>1990-09-12</td>\n",
       "    </tr>\n",
       "  </tbody>\n",
       "</table>\n",
       "</div>"
      ],
      "text/plain": [
       "   emp_no  salary   from_date     to_date\n",
       "0   10001   60117  1986-06-26  1987-06-26\n",
       "1   10002   65828  1996-08-03  1997-08-03\n",
       "2   10003   40006  1995-12-03  1996-12-02\n",
       "3   10004   40054  1986-12-01  1987-12-01\n",
       "4   10005   78228  1989-09-12  1990-09-12"
      ]
     },
     "execution_count": 40,
     "metadata": {},
     "output_type": "execute_result"
    }
   ],
   "source": [
    "# convert  salaries table information to df\n",
    "s_query = salaries.select()\n",
    "s_query_result= connection.execute(s_query)\n",
    "s_result_data = s_query_result.fetchall()\n",
    "s_salaries_df = pd.DataFrame(s_result_data)\n",
    "s_salaries_df.columns = s_result_data[0].keys()\n",
    "s_salaries_df.head(5)"
   ]
  },
  {
   "cell_type": "markdown",
   "metadata": {},
   "source": [
    "# Data Exploration"
   ]
  },
  {
   "cell_type": "code",
   "execution_count": 41,
   "metadata": {},
   "outputs": [
    {
     "data": {
      "text/html": [
       "<div>\n",
       "<style scoped>\n",
       "    .dataframe tbody tr th:only-of-type {\n",
       "        vertical-align: middle;\n",
       "    }\n",
       "\n",
       "    .dataframe tbody tr th {\n",
       "        vertical-align: top;\n",
       "    }\n",
       "\n",
       "    .dataframe thead th {\n",
       "        text-align: right;\n",
       "    }\n",
       "</style>\n",
       "<table border=\"1\" class=\"dataframe\">\n",
       "  <thead>\n",
       "    <tr style=\"text-align: right;\">\n",
       "      <th></th>\n",
       "      <th>emp_no</th>\n",
       "      <th>salary</th>\n",
       "    </tr>\n",
       "  </thead>\n",
       "  <tbody>\n",
       "    <tr>\n",
       "      <th>count</th>\n",
       "      <td>300024.000000</td>\n",
       "      <td>300024.000000</td>\n",
       "    </tr>\n",
       "    <tr>\n",
       "      <th>mean</th>\n",
       "      <td>253321.763392</td>\n",
       "      <td>52970.732451</td>\n",
       "    </tr>\n",
       "    <tr>\n",
       "      <th>std</th>\n",
       "      <td>161828.235540</td>\n",
       "      <td>14301.478491</td>\n",
       "    </tr>\n",
       "    <tr>\n",
       "      <th>min</th>\n",
       "      <td>10001.000000</td>\n",
       "      <td>40000.000000</td>\n",
       "    </tr>\n",
       "    <tr>\n",
       "      <th>25%</th>\n",
       "      <td>85006.750000</td>\n",
       "      <td>40000.000000</td>\n",
       "    </tr>\n",
       "    <tr>\n",
       "      <th>50%</th>\n",
       "      <td>249987.500000</td>\n",
       "      <td>48681.000000</td>\n",
       "    </tr>\n",
       "    <tr>\n",
       "      <th>75%</th>\n",
       "      <td>424993.250000</td>\n",
       "      <td>61758.000000</td>\n",
       "    </tr>\n",
       "    <tr>\n",
       "      <th>max</th>\n",
       "      <td>499999.000000</td>\n",
       "      <td>129492.000000</td>\n",
       "    </tr>\n",
       "  </tbody>\n",
       "</table>\n",
       "</div>"
      ],
      "text/plain": [
       "              emp_no         salary\n",
       "count  300024.000000  300024.000000\n",
       "mean   253321.763392   52970.732451\n",
       "std    161828.235540   14301.478491\n",
       "min     10001.000000   40000.000000\n",
       "25%     85006.750000   40000.000000\n",
       "50%    249987.500000   48681.000000\n",
       "75%    424993.250000   61758.000000\n",
       "max    499999.000000  129492.000000"
      ]
     },
     "execution_count": 41,
     "metadata": {},
     "output_type": "execute_result"
    }
   ],
   "source": [
    "# perform the central measures of tendency\n",
    "s_salaries_df.describe()"
   ]
  },
  {
   "cell_type": "markdown",
   "metadata": {},
   "source": [
    "# Data Analysis"
   ]
  },
  {
   "cell_type": "code",
   "execution_count": 42,
   "metadata": {},
   "outputs": [
    {
     "data": {
      "text/html": [
       "<div>\n",
       "<style scoped>\n",
       "    .dataframe tbody tr th:only-of-type {\n",
       "        vertical-align: middle;\n",
       "    }\n",
       "\n",
       "    .dataframe tbody tr th {\n",
       "        vertical-align: top;\n",
       "    }\n",
       "\n",
       "    .dataframe thead th {\n",
       "        text-align: right;\n",
       "    }\n",
       "</style>\n",
       "<table border=\"1\" class=\"dataframe\">\n",
       "  <thead>\n",
       "    <tr style=\"text-align: right;\">\n",
       "      <th></th>\n",
       "      <th>SalaryGrp</th>\n",
       "      <th>Group_Count</th>\n",
       "      <th>percent</th>\n",
       "    </tr>\n",
       "  </thead>\n",
       "  <tbody>\n",
       "    <tr>\n",
       "      <th>0</th>\n",
       "      <td>40k-49k</td>\n",
       "      <td>158465</td>\n",
       "      <td>52.817441</td>\n",
       "    </tr>\n",
       "    <tr>\n",
       "      <th>1</th>\n",
       "      <td>50k-59k</td>\n",
       "      <td>57915</td>\n",
       "      <td>19.303456</td>\n",
       "    </tr>\n",
       "    <tr>\n",
       "      <th>2</th>\n",
       "      <td>60k-69k</td>\n",
       "      <td>41413</td>\n",
       "      <td>13.803229</td>\n",
       "    </tr>\n",
       "    <tr>\n",
       "      <th>3</th>\n",
       "      <td>70k-79k</td>\n",
       "      <td>24814</td>\n",
       "      <td>8.270672</td>\n",
       "    </tr>\n",
       "    <tr>\n",
       "      <th>4</th>\n",
       "      <td>80k-89k</td>\n",
       "      <td>11845</td>\n",
       "      <td>3.948017</td>\n",
       "    </tr>\n",
       "    <tr>\n",
       "      <th>5</th>\n",
       "      <td>90k&gt;=</td>\n",
       "      <td>5572</td>\n",
       "      <td>1.857185</td>\n",
       "    </tr>\n",
       "  </tbody>\n",
       "</table>\n",
       "</div>"
      ],
      "text/plain": [
       "  SalaryGrp  Group_Count    percent\n",
       "0   40k-49k       158465  52.817441\n",
       "1   50k-59k        57915  19.303456\n",
       "2   60k-69k        41413  13.803229\n",
       "3   70k-79k        24814   8.270672\n",
       "4   80k-89k        11845   3.948017\n",
       "5     90k>=         5572   1.857185"
      ]
     },
     "execution_count": 42,
     "metadata": {},
     "output_type": "execute_result"
    }
   ],
   "source": [
    "# Create  salare bins (range)\n",
    "bins =         [   40000,     49999  ,          59999,           69999,           79999 ,             89999 ,     140000]\n",
    "group_salary = [           \"40k-49k\" ,      \"50k-59k\",       \"60k-69k\",        \"70k-79k\",          \"80k-89k\",  \"90k>=\" ] #, \"100k>\"] #,\"90k-99k\"]\n",
    "s_salaries_df[\"SalaryGrp\"] = pd.cut(s_salaries_df[\"salary\"], bins, labels=group_salary,include_lowest=True)\n",
    "#s_salaries_df.to_csv (r'C:\\Users\\user\\Documents\\ITESM_DA\\sql-challenge\\EmployeeSQL\\emp_grp.csv', index = False, header=True)\n",
    "\n",
    "# group by salarygroup column \n",
    "tot_count =s_salaries_df['emp_no'].count()\n",
    "sal_gpr = s_salaries_df.groupby([\"SalaryGrp\"])\n",
    "sal_count_grp_df=pd.DataFrame(sal_gpr.size().reset_index(name = \"Group_Count\"))\n",
    "sal_count_grp_df[\"percent\"] =sal_count_grp_df['Group_Count']*100/tot_count\n",
    "sal_count_grp_df\n"
   ]
  },
  {
   "cell_type": "code",
   "execution_count": 43,
   "metadata": {},
   "outputs": [
    {
     "data": {
      "image/png": "[encoded data removed]",
      "text/plain": [
       "<Figure size 864x648 with 2 Axes>"
      ]
     },
     "metadata": {
      "needs_background": "light"
     },
     "output_type": "display_data"
    }
   ],
   "source": [
    "#Create a histogram to visualize the most common salary ranges for employees.\n",
    "\n",
    "plt.figure(figsize=(12,9))\n",
    "# plot chart\n",
    "ax1 = plt.subplot(221, aspect='equal') #121\n",
    "sal_count_grp_df.plot(kind='pie', y = 'Group_Count', ax=ax1, autopct='%1.1f%%', \n",
    " startangle=20, shadow=False, labels=sal_count_grp_df['SalaryGrp'], legend = False, fontsize=12, title = \"Salaries Percentage by Group\")\n",
    "\n",
    "# plot table\n",
    "ax2 = plt.subplot(222) #122\n",
    "#fig.tight_layout(pad=3.0)\n",
    "ax = sal_count_grp_df.plot(x='SalaryGrp',  y='Group_Count', ax=ax2, kind=\"bar\", color=\"green\",\n",
    "                           legend = False, title = \"Salaries by range\")\n",
    "\n",
    "plt.show()\n"
   ]
  },
  {
   "cell_type": "markdown",
   "metadata": {},
   "source": [
    "The graph shows that 52.8 %  (158465 out of 300024) of the Company's employees earn a salary between 40k to 49k, On the other han 1.9 %  (5572\tout of 300024 ) of the employees earn more than 90k. The Company's average salary is 52970.00"
   ]
  },
  {
   "cell_type": "code",
   "execution_count": 44,
   "metadata": {},
   "outputs": [
    {
     "data": {
      "text/html": [
       "<div>\n",
       "<style scoped>\n",
       "    .dataframe tbody tr th:only-of-type {\n",
       "        vertical-align: middle;\n",
       "    }\n",
       "\n",
       "    .dataframe tbody tr th {\n",
       "        vertical-align: top;\n",
       "    }\n",
       "\n",
       "    .dataframe thead th {\n",
       "        text-align: right;\n",
       "    }\n",
       "</style>\n",
       "<table border=\"1\" class=\"dataframe\">\n",
       "  <thead>\n",
       "    <tr style=\"text-align: right;\">\n",
       "      <th></th>\n",
       "      <th>title</th>\n",
       "      <th>avg_salary</th>\n",
       "      <th>percent</th>\n",
       "    </tr>\n",
       "  </thead>\n",
       "  <tbody>\n",
       "    <tr>\n",
       "      <th>0</th>\n",
       "      <td>Assistant Engineer</td>\n",
       "      <td>48493.204786</td>\n",
       "      <td>16.163109</td>\n",
       "    </tr>\n",
       "    <tr>\n",
       "      <th>3</th>\n",
       "      <td>Senior Engineer</td>\n",
       "      <td>48506.751806</td>\n",
       "      <td>16.167624</td>\n",
       "    </tr>\n",
       "    <tr>\n",
       "      <th>1</th>\n",
       "      <td>Engineer</td>\n",
       "      <td>48539.781423</td>\n",
       "      <td>16.178633</td>\n",
       "    </tr>\n",
       "    <tr>\n",
       "      <th>6</th>\n",
       "      <td>Technique Leader</td>\n",
       "      <td>48580.505772</td>\n",
       "      <td>16.192207</td>\n",
       "    </tr>\n",
       "    <tr>\n",
       "      <th>2</th>\n",
       "      <td>Manager</td>\n",
       "      <td>51531.041667</td>\n",
       "      <td>17.175640</td>\n",
       "    </tr>\n",
       "    <tr>\n",
       "      <th>5</th>\n",
       "      <td>Staff</td>\n",
       "      <td>58465.271904</td>\n",
       "      <td>19.486865</td>\n",
       "    </tr>\n",
       "    <tr>\n",
       "      <th>4</th>\n",
       "      <td>Senior Staff</td>\n",
       "      <td>58503.286614</td>\n",
       "      <td>19.499536</td>\n",
       "    </tr>\n",
       "  </tbody>\n",
       "</table>\n",
       "</div>"
      ],
      "text/plain": [
       "                title    avg_salary    percent\n",
       "0  Assistant Engineer  48493.204786  16.163109\n",
       "3     Senior Engineer  48506.751806  16.167624\n",
       "1            Engineer  48539.781423  16.178633\n",
       "6    Technique Leader  48580.505772  16.192207\n",
       "2             Manager  51531.041667  17.175640\n",
       "5               Staff  58465.271904  19.486865\n",
       "4        Senior Staff  58503.286614  19.499536"
      ]
     },
     "execution_count": 44,
     "metadata": {},
     "output_type": "execute_result"
    }
   ],
   "source": [
    "#Create a bar chart of average salary by title\n",
    "emp_title_df = pd.merge (s_salaries_df,t_title_df, how='left', on=['emp_no'])\n",
    "#emp_title_df.head()\n",
    "# convert group by to df\n",
    "tit_avg_df = pd.DataFrame({'avg_salary' : emp_title_df.groupby( [\"title\"])[\"salary\"].mean()}).reset_index()\n",
    "tit_avg_df[\"percent\"] =tit_avg_df['avg_salary']*100/tot_count\n",
    "tit_avg_df= tit_avg_df.sort_values(by=\"avg_salary\", ascending=True)\n",
    "tit_avg_df"
   ]
  },
  {
   "cell_type": "code",
   "execution_count": 45,
   "metadata": {},
   "outputs": [
    {
     "data": {
      "image/png": "[encoded data removed]",
      "text/plain": [
       "<Figure size 864x648 with 2 Axes>"
      ]
     },
     "metadata": {
      "needs_background": "light"
     },
     "output_type": "display_data"
    }
   ],
   "source": [
    "# plot chart\n",
    "tit_avg_df= tit_avg_df.sort_values(by=\"avg_salary\", ascending=True)\n",
    "\n",
    "fig= plt.figure(figsize=(12,9))\n",
    "ax1 = plt.subplot(221, aspect='equal') \n",
    "\n",
    "tit_avg_df.plot(kind='pie', y = 'avg_salary', ax=ax1, autopct='%1.1f%%', \n",
    " startangle=20, shadow=False, labels=tit_avg_df['title'], legend = False, fontsize=12, title = \"Salaries Percentage by title\")\n",
    "\n",
    "# plot table\n",
    "\n",
    "ax2 = plt.subplot(222) \n",
    "fig.tight_layout(pad=3.0)\n",
    "ax = tit_avg_df.plot(x='title',  y='avg_salary', ax=ax2, kind=\"bar\", color=\"green\",\n",
    "                           legend = False, title = \"Salaries by Title\")\n",
    "\n",
    "\n",
    "\n",
    "plt.show()"
   ]
  },
  {
   "cell_type": "markdown",
   "metadata": {},
   "source": [
    "The graph shows the Company salary average and percentage distribution by title.Based on the pie chart we observed that \n",
    "\"Technique Leader\",\"Engineer\",\"Senior Engineer\",\"Assistant Engineer\" are the categories that got almost the same salary\n",
    "average of around 48k. \"Senior Staf\" and 'Staff'  got the highest average of around 59k that represents 16.1 percen over all \n",
    "salaries percentages."
   ]
  },
  {
   "cell_type": "code",
   "execution_count": null,
   "metadata": {},
   "outputs": [],
   "source": []
  },
  {
   "cell_type": "code",
   "execution_count": null,
   "metadata": {},
   "outputs": [],
   "source": []
  },
  {
   "cell_type": "code",
   "execution_count": null,
   "metadata": {},
   "outputs": [],
   "source": []
  },
  {
   "cell_type": "code",
   "execution_count": null,
   "metadata": {},
   "outputs": [],
   "source": []
  },
  {
   "cell_type": "code",
   "execution_count": null,
   "metadata": {},
   "outputs": [],
   "source": []
  },
  {
   "cell_type": "code",
   "execution_count": null,
   "metadata": {},
   "outputs": [],
   "source": []
  },
  {
   "cell_type": "code",
   "execution_count": null,
   "metadata": {},
   "outputs": [],
   "source": []
  },
  {
   "cell_type": "code",
   "execution_count": null,
   "metadata": {},
   "outputs": [],
   "source": []
  },
  {
   "cell_type": "code",
   "execution_count": null,
   "metadata": {},
   "outputs": [],
   "source": []
  },
  {
   "cell_type": "code",
   "execution_count": null,
   "metadata": {},
   "outputs": [],
   "source": []
  },
  {
   "cell_type": "code",
   "execution_count": null,
   "metadata": {},
   "outputs": [],
   "source": []
  },
  {
   "cell_type": "code",
   "execution_count": null,
   "metadata": {},
   "outputs": [],
   "source": []
  },
  {
   "cell_type": "code",
   "execution_count": null,
   "metadata": {},
   "outputs": [],
   "source": []
  },
  {
   "cell_type": "code",
   "execution_count": null,
   "metadata": {},
   "outputs": [],
   "source": []
  },
  {
   "cell_type": "code",
   "execution_count": null,
   "metadata": {},
   "outputs": [],
   "source": [
    "emp_title_df=emp_title_df.groupby(by='title').agg({'salary': ['count', 'mean', 'sum']})\n",
    "emp_title_df"
   ]
  },
  {
   "cell_type": "code",
   "execution_count": null,
   "metadata": {},
   "outputs": [],
   "source": []
  }
 ],
 "metadata": {
  "kernelspec": {
   "display_name": "Python 3",
   "language": "python",
   "name": "python3"
  },
  "language_info": {
   "codemirror_mode": {
    "name": "ipython",
    "version": 3
   },
   "file_extension": ".py",
   "mimetype": "text/x-python",
   "name": "python",
   "nbconvert_exporter": "python",
   "pygments_lexer": "ipython3",
   "version": "3.6.10"
  }
 },
 "nbformat": 4,
 "nbformat_minor": 2
}
